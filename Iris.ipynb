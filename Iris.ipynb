{
  "nbformat": 4,
  "nbformat_minor": 0,
  "metadata": {
    "colab": {
      "provenance": [],
      "authorship_tag": "ABX9TyNjiJFKRvFASC/9Kry+/jH5",
      "include_colab_link": true
    },
    "kernelspec": {
      "name": "python3",
      "display_name": "Python 3"
    },
    "language_info": {
      "name": "python"
    }
  },
  "cells": [
    {
      "cell_type": "markdown",
      "metadata": {
        "id": "view-in-github",
        "colab_type": "text"
      },
      "source": [
        "<a href=\"https://colab.research.google.com/github/contributerMe/iris/blob/main/Iris.ipynb\" target=\"_parent\"><img src=\"https://colab.research.google.com/assets/colab-badge.svg\" alt=\"Open In Colab\"/></a>"
      ]
    },
    {
      "cell_type": "markdown",
      "source": [
        "**IRIS flower classification**"
      ],
      "metadata": {
        "id": "-SKECK5hxDhP"
      }
    },
    {
      "cell_type": "code",
      "source": [
        "# Each row has 5 columns\n",
        "# 3 categories of flowers\n",
        "# sepeal len, sepal width, petal len, petal width, class label\n",
        "# Train and test split\n",
        "# 4 columns as features and class label to be predicted"
      ],
      "metadata": {
        "id": "WmuZbeapxIXL"
      },
      "execution_count": null,
      "outputs": []
    },
    {
      "cell_type": "code",
      "source": [
        "import numpy as np\n",
        "import pandas as pd\n",
        "import matplotlib.pyplot as plt\n",
        "import seaborn as sns\n",
        "%matplotlib inline\n"
      ],
      "metadata": {
        "id": "EunNVdWQxL6h"
      },
      "execution_count": null,
      "outputs": []
    },
    {
      "cell_type": "code",
      "source": [
        "#numpy deals with arrays\n",
        "# matplotlib, seaborn data visulisation\n",
        "# pandas data maniplation"
      ],
      "metadata": {
        "id": "a55QVEpwzA6d"
      },
      "execution_count": null,
      "outputs": []
    },
    {
      "cell_type": "code",
      "source": [
        "iris_data = pd.read_csv(\"/content/Iris.csv\")\n"
      ],
      "metadata": {
        "id": "hyWzuMBgzIfY"
      },
      "execution_count": null,
      "outputs": []
    },
    {
      "cell_type": "code",
      "source": [
        "iris_data.describe()"
      ],
      "metadata": {
        "id": "c0KckaeWzlTd"
      },
      "execution_count": null,
      "outputs": []
    },
    {
      "cell_type": "code",
      "source": [
        "data = iris_data.values"
      ],
      "metadata": {
        "id": "FRpSF0Nw02dq"
      },
      "execution_count": null,
      "outputs": []
    },
    {
      "cell_type": "code",
      "source": [
        "#data # This is a matrix\n",
        "# we are interested in x and y\n",
        "#so slicing\n",
        "X = data[:,1:5]\n",
        "Y = data[:,5]\n",
        "type(Y)"
      ],
      "metadata": {
        "colab": {
          "base_uri": "https://localhost:8080/"
        },
        "id": "_DhWOb3d1HKc",
        "outputId": "59be1736-3362-4e7b-dcbb-db37644a5f60"
      },
      "execution_count": null,
      "outputs": [
        {
          "output_type": "execute_result",
          "data": {
            "text/plain": [
              "numpy.ndarray"
            ]
          },
          "metadata": {},
          "execution_count": 14
        }
      ]
    },
    {
      "cell_type": "code",
      "source": [
        "#Splitting into train and test\n",
        "from sklearn.model_selection import train_test_split\n",
        "X_train,X_test,Y_train,Y_test = train_test_split(X,Y,test_size = 0.2)"
      ],
      "metadata": {
        "id": "sM8AMrDV11So"
      },
      "execution_count": null,
      "outputs": []
    },
    {
      "cell_type": "markdown",
      "source": [
        "Model 1 SVM algo"
      ],
      "metadata": {
        "id": "N11KvUcm4CLp"
      }
    },
    {
      "cell_type": "code",
      "source": [
        "from sklearn.svm import SVC\n",
        "model_svc  = SVC()\n",
        "model_svc.fit(X_train,Y_train)"
      ],
      "metadata": {
        "id": "5eykUz0Q4IGB"
      },
      "execution_count": null,
      "outputs": []
    },
    {
      "cell_type": "code",
      "source": [
        "prediction1 = model_svc.predict(X_test)\n",
        "from sklearn.metrics import accuracy_score\n",
        "for i in range (len(prediction1)):\n",
        "  print(Y_test[i], prediction1[i])\n",
        "print(accuracy_score(Y_test,prediction1) * 100 )"
      ],
      "metadata": {
        "id": "g-paFVSi4oW5"
      },
      "execution_count": null,
      "outputs": []
    },
    {
      "cell_type": "markdown",
      "source": [
        "Model 2 : Logistic Regression"
      ],
      "metadata": {
        "id": "lOMEs5975jRz"
      }
    },
    {
      "cell_type": "code",
      "source": [
        "from sklearn.linear_model import LogisticRegression\n",
        "model_LR = LogisticRegression()\n",
        "model_LR.fit(X_train,Y_train)"
      ],
      "metadata": {
        "id": "oiCCnhkO5m1l"
      },
      "execution_count": null,
      "outputs": []
    },
    {
      "cell_type": "code",
      "source": [
        "prediction2 = model_LR.predict(X_test)\n",
        "from sklearn.metrics import accuracy_score\n",
        "for i in range (len(prediction2)):\n",
        "  print(Y_test[i], prediction1[i])\n",
        "print(accuracy_score(Y_test,prediction2) * 100 )"
      ],
      "metadata": {
        "id": "oLB1nn7H7CnL"
      },
      "execution_count": null,
      "outputs": []
    },
    {
      "cell_type": "markdown",
      "source": [
        "Model 3 : Decision tree classifier"
      ],
      "metadata": {
        "id": "t0np_HqW7jks"
      }
    },
    {
      "cell_type": "code",
      "source": [
        "from sklearn.tree import DecisionTreeClassifier\n",
        "model_DTC = DecisionTreeClassifier()\n",
        "model_DTC.fit(X_train,Y_train)"
      ],
      "metadata": {
        "id": "gKrfqPAL7mnC"
      },
      "execution_count": null,
      "outputs": []
    },
    {
      "cell_type": "code",
      "source": [
        "prediction3 = model_DTC.predict(X_test)\n",
        "from sklearn.metrics import accuracy_score\n",
        "for i in range (len(prediction3)):\n",
        "  print(Y_test[i], prediction3[i])\n",
        "print(accuracy_score(Y_test,prediction3) * 100 )"
      ],
      "metadata": {
        "id": "ly_ySSrG70xc"
      },
      "execution_count": null,
      "outputs": []
    },
    {
      "cell_type": "markdown",
      "source": [],
      "metadata": {
        "id": "6BIjl65YDRqN"
      }
    }
  ]
}