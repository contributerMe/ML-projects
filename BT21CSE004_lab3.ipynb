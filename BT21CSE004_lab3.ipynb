{
  "nbformat": 4,
  "nbformat_minor": 0,
  "metadata": {
    "colab": {
      "provenance": [],
      "authorship_tag": "ABX9TyMAU98311KcDHlYwI/HGTtj",
      "include_colab_link": true
    },
    "kernelspec": {
      "name": "python3",
      "display_name": "Python 3"
    },
    "language_info": {
      "name": "python"
    }
  },
  "cells": [
    {
      "cell_type": "markdown",
      "metadata": {
        "id": "view-in-github",
        "colab_type": "text"
      },
      "source": [
        "<a href=\"https://colab.research.google.com/github/contributerMe/ML-projects/blob/main/BT21CSE004_lab3.ipynb\" target=\"_parent\"><img src=\"https://colab.research.google.com/assets/colab-badge.svg\" alt=\"Open In Colab\"/></a>"
      ]
    },
    {
      "cell_type": "code",
      "execution_count": null,
      "metadata": {
        "id": "MDasHwMHPig7"
      },
      "outputs": [],
      "source": [
        "import pandas as pd;\n",
        "df = pd.read_csv('cycle_data.csv')\n"
      ]
    },
    {
      "cell_type": "code",
      "source": [
        "print(df.head())"
      ],
      "metadata": {
        "colab": {
          "base_uri": "https://localhost:8080/"
        },
        "id": "azXxyhnGQJor",
        "outputId": "70af2fa6-7d07-4459-d9ff-c33597da54f7"
      },
      "execution_count": null,
      "outputs": [
        {
          "output_type": "stream",
          "name": "stdout",
          "text": [
            "   Unnamed: 0                 Date                  Day  High Temp (°F)  \\\n",
            "0           0  2016-04-01 00:00:00  2016-04-01 00:00:00            78.1   \n",
            "1           1  2016-04-02 00:00:00  2016-04-02 00:00:00            55.0   \n",
            "2           2  2016-04-03 00:00:00  2016-04-03 00:00:00            39.9   \n",
            "3           3  2016-04-04 00:00:00  2016-04-04 00:00:00            44.1   \n",
            "4           4  2016-04-05 00:00:00  2016-04-05 00:00:00            42.1   \n",
            "\n",
            "   Low Temp (°F) Precipitation  Brooklyn Bridge  Manhattan Bridge  \\\n",
            "0           66.0          0.01           1704.0              3126   \n",
            "1           48.9          0.15            827.0              1646   \n",
            "2           34.0          0.09            526.0              1232   \n",
            "3           33.1      0.47 (S)            521.0              1067   \n",
            "4           26.1             0           1416.0              2617   \n",
            "\n",
            "   Williamsburg Bridge  Queensboro Bridge  Total  \n",
            "0               4115.0             2552.0  11497  \n",
            "1               2565.0             1884.0   6922  \n",
            "2               1695.0             1306.0   4759  \n",
            "3               1440.0             1307.0   4335  \n",
            "4               3081.0             2357.0   9471  \n"
          ]
        }
      ]
    },
    {
      "cell_type": "code",
      "source": [
        "\n",
        "selected_features = df.iloc[:, 0:]\n",
        "print(selected_features)\n"
      ],
      "metadata": {
        "colab": {
          "base_uri": "https://localhost:8080/"
        },
        "id": "TEU9TaKzQ2FN",
        "outputId": "bf627ee3-4625-4b93-c902-8fc438624867"
      },
      "execution_count": null,
      "outputs": [
        {
          "output_type": "stream",
          "name": "stdout",
          "text": [
            "     Unnamed: 0                 Date                  Day  High Temp (°F)  \\\n",
            "0             0  2016-04-01 00:00:00  2016-04-01 00:00:00            78.1   \n",
            "1             1  2016-04-02 00:00:00  2016-04-02 00:00:00            55.0   \n",
            "2             2  2016-04-03 00:00:00  2016-04-03 00:00:00            39.9   \n",
            "3             3  2016-04-04 00:00:00  2016-04-04 00:00:00            44.1   \n",
            "4             4  2016-04-05 00:00:00  2016-04-05 00:00:00            42.1   \n",
            "..          ...                  ...                  ...             ...   \n",
            "205         205  2016-04-26 00:00:00  2016-04-26 00:00:00            60.1   \n",
            "206         206  2016-04-27 00:00:00  2016-04-27 00:00:00            62.1   \n",
            "207         207  2016-04-28 00:00:00  2016-04-28 00:00:00            57.9   \n",
            "208         208  2016-04-29 00:00:00  2016-04-29 00:00:00            57.0   \n",
            "209         209  2016-04-30 00:00:00  2016-04-30 00:00:00            64.0   \n",
            "\n",
            "     Low Temp (°F) Precipitation  Brooklyn Bridge  Manhattan Bridge  \\\n",
            "0             66.0          0.01           1704.0              3126   \n",
            "1             48.9          0.15            827.0              1646   \n",
            "2             34.0          0.09            526.0              1232   \n",
            "3             33.1      0.47 (S)            521.0              1067   \n",
            "4             26.1             0           1416.0              2617   \n",
            "..             ...           ...              ...               ...   \n",
            "205           46.9          0.24           1997.0              3520   \n",
            "206           46.9             0           3343.0              5606   \n",
            "207           48.0             0           2486.0              4152   \n",
            "208           46.9          0.05           2375.0              4178   \n",
            "209           48.0             0           3199.0              4952   \n",
            "\n",
            "     Williamsburg Bridge  Queensboro Bridge  Total  \n",
            "0                 4115.0             2552.0  11497  \n",
            "1                 2565.0             1884.0   6922  \n",
            "2                 1695.0             1306.0   4759  \n",
            "3                 1440.0             1307.0   4335  \n",
            "4                 3081.0             2357.0   9471  \n",
            "..                   ...                ...    ...  \n",
            "205               4559.0             2929.0  13005  \n",
            "206               6577.0             4388.0  19914  \n",
            "207               5336.0             3657.0  15631  \n",
            "208               5053.0             3348.0  14954  \n",
            "209               5675.0             3606.0  17432  \n",
            "\n",
            "[210 rows x 11 columns]\n"
          ]
        }
      ]
    },
    {
      "cell_type": "code",
      "source": [
        "X= df['High Temp (°F)']  #High temp on x people who used cycles on y\n",
        "print(X)\n",
        "y = df['Brooklyn Bridge']\n",
        "print(y)"
      ],
      "metadata": {
        "colab": {
          "base_uri": "https://localhost:8080/"
        },
        "id": "_Hbo73RAQ_lQ",
        "outputId": "b5460fb9-c57c-47b5-ef64-837006e811d6"
      },
      "execution_count": null,
      "outputs": [
        {
          "output_type": "stream",
          "name": "stdout",
          "text": [
            "0      78.1\n",
            "1      55.0\n",
            "2      39.9\n",
            "3      44.1\n",
            "4      42.1\n",
            "       ... \n",
            "205    60.1\n",
            "206    62.1\n",
            "207    57.9\n",
            "208    57.0\n",
            "209    64.0\n",
            "Name: High Temp (°F), Length: 210, dtype: float64\n",
            "0      1704.0\n",
            "1       827.0\n",
            "2       526.0\n",
            "3       521.0\n",
            "4      1416.0\n",
            "        ...  \n",
            "205    1997.0\n",
            "206    3343.0\n",
            "207    2486.0\n",
            "208    2375.0\n",
            "209    3199.0\n",
            "Name: Brooklyn Bridge, Length: 210, dtype: float64\n"
          ]
        }
      ]
    },
    {
      "cell_type": "code",
      "source": [
        "X = pd.DataFrame(X)\n",
        "y = pd.DataFrame(y)"
      ],
      "metadata": {
        "id": "33iTdcHFUjZQ"
      },
      "execution_count": null,
      "outputs": []
    },
    {
      "cell_type": "code",
      "source": [
        "from sklearn.model_selection import train_test_split\n",
        "X_train, X_test, y_train, y_test = train_test_split(X, y, test_size=0.2, random_state=42)\n",
        "\n"
      ],
      "metadata": {
        "id": "t-mPRrDORTzJ"
      },
      "execution_count": null,
      "outputs": []
    },
    {
      "cell_type": "code",
      "source": [
        "from sklearn.linear_model import LinearRegression\n",
        "model=LinearRegression()\n",
        "model.fit(X_train,y_train)\n"
      ],
      "metadata": {
        "colab": {
          "base_uri": "https://localhost:8080/",
          "height": 74
        },
        "id": "mVKEADo2Sn1j",
        "outputId": "65cf60f9-acec-4b49-c7eb-9c517949cf4b"
      },
      "execution_count": null,
      "outputs": [
        {
          "output_type": "execute_result",
          "data": {
            "text/plain": [
              "LinearRegression()"
            ],
            "text/html": [
              "<style>#sk-container-id-1 {color: black;background-color: white;}#sk-container-id-1 pre{padding: 0;}#sk-container-id-1 div.sk-toggleable {background-color: white;}#sk-container-id-1 label.sk-toggleable__label {cursor: pointer;display: block;width: 100%;margin-bottom: 0;padding: 0.3em;box-sizing: border-box;text-align: center;}#sk-container-id-1 label.sk-toggleable__label-arrow:before {content: \"▸\";float: left;margin-right: 0.25em;color: #696969;}#sk-container-id-1 label.sk-toggleable__label-arrow:hover:before {color: black;}#sk-container-id-1 div.sk-estimator:hover label.sk-toggleable__label-arrow:before {color: black;}#sk-container-id-1 div.sk-toggleable__content {max-height: 0;max-width: 0;overflow: hidden;text-align: left;background-color: #f0f8ff;}#sk-container-id-1 div.sk-toggleable__content pre {margin: 0.2em;color: black;border-radius: 0.25em;background-color: #f0f8ff;}#sk-container-id-1 input.sk-toggleable__control:checked~div.sk-toggleable__content {max-height: 200px;max-width: 100%;overflow: auto;}#sk-container-id-1 input.sk-toggleable__control:checked~label.sk-toggleable__label-arrow:before {content: \"▾\";}#sk-container-id-1 div.sk-estimator input.sk-toggleable__control:checked~label.sk-toggleable__label {background-color: #d4ebff;}#sk-container-id-1 div.sk-label input.sk-toggleable__control:checked~label.sk-toggleable__label {background-color: #d4ebff;}#sk-container-id-1 input.sk-hidden--visually {border: 0;clip: rect(1px 1px 1px 1px);clip: rect(1px, 1px, 1px, 1px);height: 1px;margin: -1px;overflow: hidden;padding: 0;position: absolute;width: 1px;}#sk-container-id-1 div.sk-estimator {font-family: monospace;background-color: #f0f8ff;border: 1px dotted black;border-radius: 0.25em;box-sizing: border-box;margin-bottom: 0.5em;}#sk-container-id-1 div.sk-estimator:hover {background-color: #d4ebff;}#sk-container-id-1 div.sk-parallel-item::after {content: \"\";width: 100%;border-bottom: 1px solid gray;flex-grow: 1;}#sk-container-id-1 div.sk-label:hover label.sk-toggleable__label {background-color: #d4ebff;}#sk-container-id-1 div.sk-serial::before {content: \"\";position: absolute;border-left: 1px solid gray;box-sizing: border-box;top: 0;bottom: 0;left: 50%;z-index: 0;}#sk-container-id-1 div.sk-serial {display: flex;flex-direction: column;align-items: center;background-color: white;padding-right: 0.2em;padding-left: 0.2em;position: relative;}#sk-container-id-1 div.sk-item {position: relative;z-index: 1;}#sk-container-id-1 div.sk-parallel {display: flex;align-items: stretch;justify-content: center;background-color: white;position: relative;}#sk-container-id-1 div.sk-item::before, #sk-container-id-1 div.sk-parallel-item::before {content: \"\";position: absolute;border-left: 1px solid gray;box-sizing: border-box;top: 0;bottom: 0;left: 50%;z-index: -1;}#sk-container-id-1 div.sk-parallel-item {display: flex;flex-direction: column;z-index: 1;position: relative;background-color: white;}#sk-container-id-1 div.sk-parallel-item:first-child::after {align-self: flex-end;width: 50%;}#sk-container-id-1 div.sk-parallel-item:last-child::after {align-self: flex-start;width: 50%;}#sk-container-id-1 div.sk-parallel-item:only-child::after {width: 0;}#sk-container-id-1 div.sk-dashed-wrapped {border: 1px dashed gray;margin: 0 0.4em 0.5em 0.4em;box-sizing: border-box;padding-bottom: 0.4em;background-color: white;}#sk-container-id-1 div.sk-label label {font-family: monospace;font-weight: bold;display: inline-block;line-height: 1.2em;}#sk-container-id-1 div.sk-label-container {text-align: center;}#sk-container-id-1 div.sk-container {/* jupyter's `normalize.less` sets `[hidden] { display: none; }` but bootstrap.min.css set `[hidden] { display: none !important; }` so we also need the `!important` here to be able to override the default hidden behavior on the sphinx rendered scikit-learn.org. See: https://github.com/scikit-learn/scikit-learn/issues/21755 */display: inline-block !important;position: relative;}#sk-container-id-1 div.sk-text-repr-fallback {display: none;}</style><div id=\"sk-container-id-1\" class=\"sk-top-container\"><div class=\"sk-text-repr-fallback\"><pre>LinearRegression()</pre><b>In a Jupyter environment, please rerun this cell to show the HTML representation or trust the notebook. <br />On GitHub, the HTML representation is unable to render, please try loading this page with nbviewer.org.</b></div><div class=\"sk-container\" hidden><div class=\"sk-item\"><div class=\"sk-estimator sk-toggleable\"><input class=\"sk-toggleable__control sk-hidden--visually\" id=\"sk-estimator-id-1\" type=\"checkbox\" checked><label for=\"sk-estimator-id-1\" class=\"sk-toggleable__label sk-toggleable__label-arrow\">LinearRegression</label><div class=\"sk-toggleable__content\"><pre>LinearRegression()</pre></div></div></div></div></div>"
            ]
          },
          "metadata": {},
          "execution_count": 31
        }
      ]
    },
    {
      "cell_type": "code",
      "source": [
        "model.score(X_test,y_test)\n"
      ],
      "metadata": {
        "colab": {
          "base_uri": "https://localhost:8080/"
        },
        "id": "e06ROHxITTHy",
        "outputId": "6007e1fa-29df-4855-dd6b-b04a8cb7db08"
      },
      "execution_count": null,
      "outputs": [
        {
          "output_type": "execute_result",
          "data": {
            "text/plain": [
              "0.2292403379857897"
            ]
          },
          "metadata": {},
          "execution_count": 33
        }
      ]
    },
    {
      "cell_type": "code",
      "source": [
        "y_pred = model.predict(X_test)"
      ],
      "metadata": {
        "id": "NUDQN9iOWygc"
      },
      "execution_count": null,
      "outputs": []
    },
    {
      "cell_type": "markdown",
      "source": [],
      "metadata": {
        "id": "Lrk2DcjlWw6z"
      }
    },
    {
      "cell_type": "code",
      "source": [
        "import matplotlib.pyplot as plt\n",
        "\n",
        "# Plotting actual vs predicted values\n",
        "plt.scatter(y_test, y_pred, color='blue')\n",
        "plt.plot(y_test, y_test, color='red', linestyle='--')\n",
        "plt.xlabel('Actual Values')\n",
        "plt.ylabel('Predicted Values')\n",
        "plt.title('Actual vs Predicted Values')\n",
        "plt.show()\n",
        "\n"
      ],
      "metadata": {
        "colab": {
          "base_uri": "https://localhost:8080/",
          "height": 472
        },
        "id": "mXqb-9_7VTDZ",
        "outputId": "ade40e18-d642-4c85-edf8-386e9fd69216"
      },
      "execution_count": null,
      "outputs": [
        {
          "output_type": "display_data",
          "data": {
            "text/plain": [
              "<Figure size 640x480 with 1 Axes>"
            ],
            "image/png": "[encoded data removed]"
          },
          "metadata": {}
        }
      ]
    },
    {
      "cell_type": "code",
      "source": [],
      "metadata": {
        "id": "kaHaPeSCW4vB"
      },
      "execution_count": null,
      "outputs": []
    }
  ]
}